{
  "nbformat": 4,
  "nbformat_minor": 0,
  "metadata": {
    "colab": {
      "name": "Untitled0.ipynb",
      "provenance": [],
      "collapsed_sections": [],
      "include_colab_link": true
    },
    "kernelspec": {
      "name": "python3",
      "display_name": "Python 3"
    }
  },
  "cells": [
    {
      "cell_type": "markdown",
      "metadata": {
        "id": "view-in-github",
        "colab_type": "text"
      },
      "source": [
        "<a href=\"https://colab.research.google.com/github/ThuanPhong0126/PT_TK_TT/blob/main/Untitled0.ipynb\" target=\"_parent\"><img src=\"https://colab.research.google.com/assets/colab-badge.svg\" alt=\"Open In Colab\"/></a>"
      ]
    },
    {
      "cell_type": "markdown",
      "metadata": {
        "id": "ZPzuPvAnIp7I"
      },
      "source": [
        "##Giới thiệu về chiếc laptop thần thánh"
      ]
    },
    {
      "cell_type": "markdown",
      "metadata": {
        "id": "XoHlKTHeI16H"
      },
      "source": [
        "Cái máy tính dùng để thử nghiệm."
      ]
    },
    {
      "cell_type": "markdown",
      "metadata": {
        "id": "QsK2WO5cI5iI"
      },
      "source": [
        "![](https://github.com/ThuanPhong0126/PT_TK_TT/raw/main/120556855_340737163921083_7252735473015711253_n.png)"
      ]
    },
    {
      "cell_type": "markdown",
      "metadata": {
        "id": "uMUJm6E0KKeE"
      },
      "source": [
        "![](https://github.com/ThuanPhong0126/PT_TK_TT/raw/main/120571441_2831192010539942_3322962260345442254_n.jpg)"
      ]
    },
    {
      "cell_type": "markdown",
      "metadata": {
        "id": "JETxTY5-Inka"
      },
      "source": [
        "##Tìm hệ số"
      ]
    },
    {
      "cell_type": "code",
      "metadata": {
        "id": "MOSnAw0fL4iC"
      },
      "source": [
        "import pandas as pd"
      ],
      "execution_count": 83,
      "outputs": []
    },
    {
      "cell_type": "code",
      "metadata": {
        "id": "dPpO5zcsMcYv"
      },
      "source": [
        "data = pd.read_csv(\"https://raw.githubusercontent.com/ThuanPhong0126/PT_TK_TT/main/data%20(2).csv\")"
      ],
      "execution_count": 84,
      "outputs": []
    },
    {
      "cell_type": "code",
      "metadata": {
        "id": "bADiil-OMhlZ",
        "outputId": "d36857e8-7599-4ac1-c000-3089b4f99f67",
        "colab": {
          "base_uri": "https://localhost:8080/",
          "height": 1000
        }
      },
      "source": [
        "data.columns = ['size', 'operations']\n",
        "data"
      ],
      "execution_count": 85,
      "outputs": [
        {
          "output_type": "execute_result",
          "data": {
            "text/html": [
              "<div>\n",
              "<style scoped>\n",
              "    .dataframe tbody tr th:only-of-type {\n",
              "        vertical-align: middle;\n",
              "    }\n",
              "\n",
              "    .dataframe tbody tr th {\n",
              "        vertical-align: top;\n",
              "    }\n",
              "\n",
              "    .dataframe thead th {\n",
              "        text-align: right;\n",
              "    }\n",
              "</style>\n",
              "<table border=\"1\" class=\"dataframe\">\n",
              "  <thead>\n",
              "    <tr style=\"text-align: right;\">\n",
              "      <th></th>\n",
              "      <th>size</th>\n",
              "      <th>operations</th>\n",
              "    </tr>\n",
              "  </thead>\n",
              "  <tbody>\n",
              "    <tr>\n",
              "      <th>0</th>\n",
              "      <td>566</td>\n",
              "      <td>891179</td>\n",
              "    </tr>\n",
              "    <tr>\n",
              "      <th>1</th>\n",
              "      <td>622</td>\n",
              "      <td>1076112</td>\n",
              "    </tr>\n",
              "    <tr>\n",
              "      <th>2</th>\n",
              "      <td>684</td>\n",
              "      <td>1284749</td>\n",
              "    </tr>\n",
              "    <tr>\n",
              "      <th>3</th>\n",
              "      <td>752</td>\n",
              "      <td>1566425</td>\n",
              "    </tr>\n",
              "    <tr>\n",
              "      <th>4</th>\n",
              "      <td>827</td>\n",
              "      <td>1880873</td>\n",
              "    </tr>\n",
              "    <tr>\n",
              "      <th>5</th>\n",
              "      <td>909</td>\n",
              "      <td>2272283</td>\n",
              "    </tr>\n",
              "    <tr>\n",
              "      <th>6</th>\n",
              "      <td>999</td>\n",
              "      <td>2731826</td>\n",
              "    </tr>\n",
              "    <tr>\n",
              "      <th>7</th>\n",
              "      <td>1098</td>\n",
              "      <td>3291095</td>\n",
              "    </tr>\n",
              "    <tr>\n",
              "      <th>8</th>\n",
              "      <td>1207</td>\n",
              "      <td>3968394</td>\n",
              "    </tr>\n",
              "    <tr>\n",
              "      <th>9</th>\n",
              "      <td>1327</td>\n",
              "      <td>4807383</td>\n",
              "    </tr>\n",
              "    <tr>\n",
              "      <th>10</th>\n",
              "      <td>1459</td>\n",
              "      <td>5773413</td>\n",
              "    </tr>\n",
              "    <tr>\n",
              "      <th>11</th>\n",
              "      <td>1604</td>\n",
              "      <td>7090250</td>\n",
              "    </tr>\n",
              "    <tr>\n",
              "      <th>12</th>\n",
              "      <td>1764</td>\n",
              "      <td>8564846</td>\n",
              "    </tr>\n",
              "    <tr>\n",
              "      <th>13</th>\n",
              "      <td>1940</td>\n",
              "      <td>10342934</td>\n",
              "    </tr>\n",
              "    <tr>\n",
              "      <th>14</th>\n",
              "      <td>2134</td>\n",
              "      <td>12499458</td>\n",
              "    </tr>\n",
              "    <tr>\n",
              "      <th>15</th>\n",
              "      <td>2347</td>\n",
              "      <td>15035283</td>\n",
              "    </tr>\n",
              "    <tr>\n",
              "      <th>16</th>\n",
              "      <td>2581</td>\n",
              "      <td>18251175</td>\n",
              "    </tr>\n",
              "    <tr>\n",
              "      <th>17</th>\n",
              "      <td>2839</td>\n",
              "      <td>21978234</td>\n",
              "    </tr>\n",
              "    <tr>\n",
              "      <th>18</th>\n",
              "      <td>3122</td>\n",
              "      <td>26605691</td>\n",
              "    </tr>\n",
              "    <tr>\n",
              "      <th>19</th>\n",
              "      <td>3434</td>\n",
              "      <td>32365208</td>\n",
              "    </tr>\n",
              "    <tr>\n",
              "      <th>20</th>\n",
              "      <td>3777</td>\n",
              "      <td>38733764</td>\n",
              "    </tr>\n",
              "    <tr>\n",
              "      <th>21</th>\n",
              "      <td>4154</td>\n",
              "      <td>47003723</td>\n",
              "    </tr>\n",
              "    <tr>\n",
              "      <th>22</th>\n",
              "      <td>4569</td>\n",
              "      <td>56581136</td>\n",
              "    </tr>\n",
              "    <tr>\n",
              "      <th>23</th>\n",
              "      <td>5025</td>\n",
              "      <td>68787851</td>\n",
              "    </tr>\n",
              "    <tr>\n",
              "      <th>24</th>\n",
              "      <td>5527</td>\n",
              "      <td>82650687</td>\n",
              "    </tr>\n",
              "    <tr>\n",
              "      <th>25</th>\n",
              "      <td>6079</td>\n",
              "      <td>100535286</td>\n",
              "    </tr>\n",
              "    <tr>\n",
              "      <th>26</th>\n",
              "      <td>6686</td>\n",
              "      <td>121241282</td>\n",
              "    </tr>\n",
              "    <tr>\n",
              "      <th>27</th>\n",
              "      <td>7354</td>\n",
              "      <td>145254879</td>\n",
              "    </tr>\n",
              "    <tr>\n",
              "      <th>28</th>\n",
              "      <td>8089</td>\n",
              "      <td>175542051</td>\n",
              "    </tr>\n",
              "    <tr>\n",
              "      <th>29</th>\n",
              "      <td>8897</td>\n",
              "      <td>212765219</td>\n",
              "    </tr>\n",
              "    <tr>\n",
              "      <th>30</th>\n",
              "      <td>9786</td>\n",
              "      <td>257252411</td>\n",
              "    </tr>\n",
              "    <tr>\n",
              "      <th>31</th>\n",
              "      <td>10764</td>\n",
              "      <td>309721382</td>\n",
              "    </tr>\n",
              "    <tr>\n",
              "      <th>32</th>\n",
              "      <td>11840</td>\n",
              "      <td>375138041</td>\n",
              "    </tr>\n",
              "    <tr>\n",
              "      <th>33</th>\n",
              "      <td>13024</td>\n",
              "      <td>451197312</td>\n",
              "    </tr>\n",
              "    <tr>\n",
              "      <th>34</th>\n",
              "      <td>14326</td>\n",
              "      <td>542198526</td>\n",
              "    </tr>\n",
              "    <tr>\n",
              "      <th>35</th>\n",
              "      <td>15758</td>\n",
              "      <td>656330114</td>\n",
              "    </tr>\n",
              "    <tr>\n",
              "      <th>36</th>\n",
              "      <td>17333</td>\n",
              "      <td>791448350</td>\n",
              "    </tr>\n",
              "    <tr>\n",
              "      <th>37</th>\n",
              "      <td>19066</td>\n",
              "      <td>953177772</td>\n",
              "    </tr>\n",
              "    <tr>\n",
              "      <th>38</th>\n",
              "      <td>20972</td>\n",
              "      <td>1149982718</td>\n",
              "    </tr>\n",
              "    <tr>\n",
              "      <th>39</th>\n",
              "      <td>23069</td>\n",
              "      <td>1381095497</td>\n",
              "    </tr>\n",
              "    <tr>\n",
              "      <th>40</th>\n",
              "      <td>25375</td>\n",
              "      <td>1668311904</td>\n",
              "    </tr>\n",
              "    <tr>\n",
              "      <th>41</th>\n",
              "      <td>27912</td>\n",
              "      <td>2005457300</td>\n",
              "    </tr>\n",
              "    <tr>\n",
              "      <th>42</th>\n",
              "      <td>30703</td>\n",
              "      <td>2415173943</td>\n",
              "    </tr>\n",
              "    <tr>\n",
              "      <th>43</th>\n",
              "      <td>33773</td>\n",
              "      <td>2906017016</td>\n",
              "    </tr>\n",
              "    <tr>\n",
              "      <th>44</th>\n",
              "      <td>37150</td>\n",
              "      <td>3492098967</td>\n",
              "    </tr>\n",
              "    <tr>\n",
              "      <th>45</th>\n",
              "      <td>40865</td>\n",
              "      <td>4201832147</td>\n",
              "    </tr>\n",
              "    <tr>\n",
              "      <th>46</th>\n",
              "      <td>44951</td>\n",
              "      <td>5043667010</td>\n",
              "    </tr>\n",
              "  </tbody>\n",
              "</table>\n",
              "</div>"
            ],
            "text/plain": [
              "     size  operations\n",
              "0     566      891179\n",
              "1     622     1076112\n",
              "2     684     1284749\n",
              "3     752     1566425\n",
              "4     827     1880873\n",
              "5     909     2272283\n",
              "6     999     2731826\n",
              "7    1098     3291095\n",
              "8    1207     3968394\n",
              "9    1327     4807383\n",
              "10   1459     5773413\n",
              "11   1604     7090250\n",
              "12   1764     8564846\n",
              "13   1940    10342934\n",
              "14   2134    12499458\n",
              "15   2347    15035283\n",
              "16   2581    18251175\n",
              "17   2839    21978234\n",
              "18   3122    26605691\n",
              "19   3434    32365208\n",
              "20   3777    38733764\n",
              "21   4154    47003723\n",
              "22   4569    56581136\n",
              "23   5025    68787851\n",
              "24   5527    82650687\n",
              "25   6079   100535286\n",
              "26   6686   121241282\n",
              "27   7354   145254879\n",
              "28   8089   175542051\n",
              "29   8897   212765219\n",
              "30   9786   257252411\n",
              "31  10764   309721382\n",
              "32  11840   375138041\n",
              "33  13024   451197312\n",
              "34  14326   542198526\n",
              "35  15758   656330114\n",
              "36  17333   791448350\n",
              "37  19066   953177772\n",
              "38  20972  1149982718\n",
              "39  23069  1381095497\n",
              "40  25375  1668311904\n",
              "41  27912  2005457300\n",
              "42  30703  2415173943\n",
              "43  33773  2906017016\n",
              "44  37150  3492098967\n",
              "45  40865  4201832147\n",
              "46  44951  5043667010"
            ]
          },
          "metadata": {
            "tags": []
          },
          "execution_count": 85
        }
      ]
    },
    {
      "cell_type": "code",
      "metadata": {
        "id": "ITaZR7oy4VEm"
      },
      "source": [
        "import numpy as np\n",
        "from sklearn.linear_model import LinearRegression\n",
        "import math\n",
        "from decimal import *"
      ],
      "execution_count": 86,
      "outputs": []
    },
    {
      "cell_type": "markdown",
      "metadata": {
        "id": "kOGyJmUZ5F_W"
      },
      "source": [
        "###Sqrt_n\n"
      ]
    },
    {
      "cell_type": "code",
      "metadata": {
        "id": "4IJkv_bEMjPZ"
      },
      "source": [
        "X = data['size'].values.reshape(-1,1)\n",
        "X = X**0.5"
      ],
      "execution_count": null,
      "outputs": []
    },
    {
      "cell_type": "code",
      "metadata": {
        "id": "ndsDostt19Kk",
        "outputId": "573eb80e-02d0-4102-d514-b6e4cdc8302e",
        "colab": {
          "base_uri": "https://localhost:8080/",
          "height": 34
        }
      },
      "source": [
        "LR=LinearRegression().fit(X, data['operations'])\n",
        "\n",
        "print(LR.coef_)"
      ],
      "execution_count": null,
      "outputs": [
        {
          "output_type": "stream",
          "text": [
            "[18873794.70698743]\n"
          ],
          "name": "stdout"
        }
      ]
    },
    {
      "cell_type": "code",
      "metadata": {
        "id": "B8qhbYqruN-p",
        "outputId": "db20cd92-fafc-4144-c6b9-34a984c82e27",
        "colab": {
          "base_uri": "https://localhost:8080/",
          "height": 34
        }
      },
      "source": [
        "LR.coef_[0]"
      ],
      "execution_count": null,
      "outputs": [
        {
          "output_type": "execute_result",
          "data": {
            "text/plain": [
              "18873794.70698743"
            ]
          },
          "metadata": {
            "tags": []
          },
          "execution_count": 9
        }
      ]
    },
    {
      "cell_type": "markdown",
      "metadata": {
        "id": "bHaIlBe05Scw"
      },
      "source": [
        "###Log_n"
      ]
    },
    {
      "cell_type": "code",
      "metadata": {
        "id": "juKRu_Pe2CuZ"
      },
      "source": [
        "X = data['size']\n",
        "X = np.array([math.log2(i) for i in X]).reshape(-1,1)"
      ],
      "execution_count": null,
      "outputs": []
    },
    {
      "cell_type": "code",
      "metadata": {
        "id": "bXX4fiFb5rot",
        "outputId": "ee29d7de-1ac7-4667-9a28-914f7481e80a",
        "colab": {
          "base_uri": "https://localhost:8080/",
          "height": 34
        }
      },
      "source": [
        "LR = LinearRegression().fit(X, data['operations'])\n",
        "\n",
        "print(LR.coef_)"
      ],
      "execution_count": null,
      "outputs": [
        {
          "output_type": "stream",
          "text": [
            "[4.5590523e+08]\n"
          ],
          "name": "stdout"
        }
      ]
    },
    {
      "cell_type": "markdown",
      "metadata": {
        "id": "El7lZfGQSvv5"
      },
      "source": [
        "###n"
      ]
    },
    {
      "cell_type": "code",
      "metadata": {
        "id": "FFB_gjYFS8o3"
      },
      "source": [
        "X = data['size'].values.reshape(-1,1)"
      ],
      "execution_count": null,
      "outputs": []
    },
    {
      "cell_type": "code",
      "metadata": {
        "id": "dFNHp7WV500b",
        "outputId": "87c7a5e8-57da-4969-d222-d113e8d3b626",
        "colab": {
          "base_uri": "https://localhost:8080/",
          "height": 34
        }
      },
      "source": [
        "LR = LinearRegression().fit(X, data['operations'])\n",
        "\n",
        "print(LR.coef_)"
      ],
      "execution_count": null,
      "outputs": [
        {
          "output_type": "stream",
          "text": [
            "[94312.09955961]\n"
          ],
          "name": "stdout"
        }
      ]
    },
    {
      "cell_type": "markdown",
      "metadata": {
        "id": "BiDFEhGLTMXd"
      },
      "source": [
        "###nlogn"
      ]
    },
    {
      "cell_type": "code",
      "metadata": {
        "id": "ESRKYqlNTLVE"
      },
      "source": [
        "X = data['size']\n",
        "X = np.array([i*math.log2(i) for i in X]).reshape(-1,1)"
      ],
      "execution_count": null,
      "outputs": []
    },
    {
      "cell_type": "code",
      "metadata": {
        "id": "ftTCRy_mTgkj",
        "outputId": "5141b81f-1c3d-48d4-e4ac-af3d001b165f",
        "colab": {
          "base_uri": "https://localhost:8080/",
          "height": 34
        }
      },
      "source": [
        "LR = LinearRegression().fit(X, data['operations'])\n",
        "\n",
        "print(LR.coef_)"
      ],
      "execution_count": null,
      "outputs": [
        {
          "output_type": "stream",
          "text": [
            "[6221.36614891]\n"
          ],
          "name": "stdout"
        }
      ]
    },
    {
      "cell_type": "markdown",
      "metadata": {
        "id": "y6E0aldmTqbY"
      },
      "source": [
        "###n^2"
      ]
    },
    {
      "cell_type": "code",
      "metadata": {
        "id": "MedZtNgdThPf"
      },
      "source": [
        "X =data['size'].values.reshape(-1,1)\n",
        "X = X**2"
      ],
      "execution_count": null,
      "outputs": []
    },
    {
      "cell_type": "code",
      "metadata": {
        "id": "WUiV-AD_Ty7g",
        "outputId": "4e92191e-aa90-40ab-ee45-675a00728291",
        "colab": {
          "base_uri": "https://localhost:8080/",
          "height": 34
        }
      },
      "source": [
        "LR = LinearRegression().fit(X, data['operations'])\n",
        "\n",
        "print(LR.coef_)"
      ],
      "execution_count": null,
      "outputs": [
        {
          "output_type": "stream",
          "text": [
            "[2.52157664]\n"
          ],
          "name": "stdout"
        }
      ]
    },
    {
      "cell_type": "markdown",
      "metadata": {
        "id": "yT9Nh1OTULil"
      },
      "source": [
        "###n^3"
      ]
    },
    {
      "cell_type": "code",
      "metadata": {
        "id": "OCwfHIXpUGUN"
      },
      "source": [
        "X = data['size'].values.reshape(-1,1)\n",
        "X = X**3"
      ],
      "execution_count": null,
      "outputs": []
    },
    {
      "cell_type": "code",
      "metadata": {
        "id": "XcS9Vqe-WRIn",
        "outputId": "e3836539-f4d9-4413-cf48-47e2b64eeecd",
        "colab": {
          "base_uri": "https://localhost:8080/",
          "height": 34
        }
      },
      "source": [
        "LR = LinearRegression().fit(X, data['operations'])\n",
        "\n",
        "print(LR.coef_)"
      ],
      "execution_count": null,
      "outputs": [
        {
          "output_type": "stream",
          "text": [
            "[6.14658797e-05]\n"
          ],
          "name": "stdout"
        }
      ]
    },
    {
      "cell_type": "markdown",
      "metadata": {
        "id": "kJl9eXy_y0Td"
      },
      "source": [
        "###2^n"
      ]
    },
    {
      "cell_type": "code",
      "metadata": {
        "id": "_9QS4QohtgtH"
      },
      "source": [
        "ns = bn['n']\n",
        "hai_mu_n = []\n",
        "for j in range(len(ns)-3):\n",
        "  hai_mu_n.append(2**Decimal(ns[j]))"
      ],
      "execution_count": null,
      "outputs": []
    },
    {
      "cell_type": "code",
      "metadata": {
        "id": "gyDsX4PJwAwj"
      },
      "source": [
        "hai_mu_n.append(0)\n",
        "hai_mu_n.append(0)\n",
        "hai_mu_n.append(0)"
      ],
      "execution_count": null,
      "outputs": []
    },
    {
      "cell_type": "code",
      "metadata": {
        "id": "0ocNpppOupnm"
      },
      "source": [
        "bn['2^n'] = hai_mu_n"
      ],
      "execution_count": null,
      "outputs": []
    },
    {
      "cell_type": "code",
      "metadata": {
        "id": "A_RZvZCTwjBb"
      },
      "source": [
        "do_lech = []\n",
        "for i in range(len(ns)-3):\n",
        "  do_lech.append((Decimal(hai_mu_n[i]) - Decimal(ns[i]))**2)"
      ],
      "execution_count": null,
      "outputs": []
    },
    {
      "cell_type": "code",
      "metadata": {
        "id": "2I_c_ZTKxXN_"
      },
      "source": [
        "do_lech.append(0)\n",
        "do_lech.append(0)"
      ],
      "execution_count": null,
      "outputs": []
    },
    {
      "cell_type": "code",
      "metadata": {
        "id": "5zbFIsihx5Hn"
      },
      "source": [
        "sum = 0\n",
        "for i in range(len(do_lech)-2):\n",
        "  sum = Decimal(sum) + Decimal(do_lech[i])"
      ],
      "execution_count": null,
      "outputs": []
    },
    {
      "cell_type": "code",
      "metadata": {
        "id": "JmZ5jtSpxubY"
      },
      "source": [
        "do_lech.append(Decimal(sum)/(Decimal(len(do_lech)-2)))"
      ],
      "execution_count": null,
      "outputs": []
    },
    {
      "cell_type": "code",
      "metadata": {
        "id": "m-Q6sL5hwNCN"
      },
      "source": [
        "bn['2^n độ lệch'] = do_lech"
      ],
      "execution_count": null,
      "outputs": []
    },
    {
      "cell_type": "markdown",
      "metadata": {
        "id": "nyPVs55iy5Yu"
      },
      "source": [
        "###n!"
      ]
    },
    {
      "cell_type": "code",
      "metadata": {
        "id": "3Y8TGfAIzZG0"
      },
      "source": [
        "def GiaiThua(n):\n",
        "    giai_thua = 1;\n",
        "    if (n == 0 or n == 1):\n",
        "        return giai_thua;\n",
        "    else:\n",
        "        for i in range(2, n + 1):\n",
        "            giai_thua = Decimal(giai_thua) * Decimal(i);\n",
        "        return giai_thua;"
      ],
      "execution_count": null,
      "outputs": []
    },
    {
      "cell_type": "code",
      "metadata": {
        "id": "_0zuXMssypmH"
      },
      "source": [
        "ns = bn['n']\n",
        "giai_thua_n = []\n",
        "for j in range(len(ns)-3):\n",
        "  giai_thua_n.append(GiaiThua(int(ns[j])))"
      ],
      "execution_count": null,
      "outputs": []
    },
    {
      "cell_type": "code",
      "metadata": {
        "id": "iQPhGzoIz5ZP"
      },
      "source": [
        "giai_thua_n.append(0)\n",
        "giai_thua_n.append(0)\n",
        "giai_thua_n.append(0)"
      ],
      "execution_count": null,
      "outputs": []
    },
    {
      "cell_type": "code",
      "metadata": {
        "id": "8dMXrcnR0Hhz"
      },
      "source": [
        "bn['n!'] = giai_thua_n"
      ],
      "execution_count": null,
      "outputs": []
    },
    {
      "cell_type": "code",
      "metadata": {
        "id": "FDzGCrBq0MHX"
      },
      "source": [
        "do_lech = []\n",
        "for i in range(len(ns)-3):\n",
        "  do_lech.append((Decimal(giai_thua_n[i]) - Decimal(ns[i]))**2)"
      ],
      "execution_count": null,
      "outputs": []
    },
    {
      "cell_type": "code",
      "metadata": {
        "id": "UwcShw-10RHs"
      },
      "source": [
        "do_lech.append(0)\n",
        "do_lech.append(0)"
      ],
      "execution_count": null,
      "outputs": []
    },
    {
      "cell_type": "code",
      "metadata": {
        "id": "RvVqwpIc0TRJ"
      },
      "source": [
        "sum = 0\n",
        "for i in range(len(do_lech)-2):\n",
        "  sum = Decimal(sum) + Decimal(do_lech[i])"
      ],
      "execution_count": null,
      "outputs": []
    },
    {
      "cell_type": "code",
      "metadata": {
        "id": "fOXw6wpa0VmZ"
      },
      "source": [
        "do_lech.append(Decimal(sum)/(Decimal(len(do_lech)-2)))"
      ],
      "execution_count": null,
      "outputs": []
    },
    {
      "cell_type": "code",
      "metadata": {
        "id": "mMBx4L5M0dHA"
      },
      "source": [
        "bn['n! độ lệch'] = do_lech"
      ],
      "execution_count": null,
      "outputs": []
    },
    {
      "cell_type": "code",
      "metadata": {
        "id": "IXXHQoMJ0gG0"
      },
      "source": [
        "bn.to_csv('FINAL.csv')"
      ],
      "execution_count": null,
      "outputs": []
    }
  ]
}